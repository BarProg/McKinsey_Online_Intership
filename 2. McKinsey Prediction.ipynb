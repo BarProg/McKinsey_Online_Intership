{
 "cells": [
  {
   "cell_type": "code",
   "execution_count": 35,
   "metadata": {},
   "outputs": [],
   "source": [
    "import pandas as pd\n",
    "from math import sqrt\n",
    "import numpy as np\n",
    "import matplotlib.pyplot as plt\n",
    "from sklearn.tree import DecisionTreeRegressor\n",
    "from sklearn.ensemble import AdaBoostRegressor\n",
    "from sklearn.metrics import mean_squared_error, mean_absolute_error\n",
    "from sklearn.model_selection import GridSearchCV"
   ]
  },
  {
   "cell_type": "code",
   "execution_count": 19,
   "metadata": {},
   "outputs": [
    {
     "data": {
      "text/html": [
       "<div>\n",
       "<style scoped>\n",
       "    .dataframe tbody tr th:only-of-type {\n",
       "        vertical-align: middle;\n",
       "    }\n",
       "\n",
       "    .dataframe tbody tr th {\n",
       "        vertical-align: top;\n",
       "    }\n",
       "\n",
       "    .dataframe thead th {\n",
       "        text-align: right;\n",
       "    }\n",
       "</style>\n",
       "<table border=\"1\" class=\"dataframe\">\n",
       "  <thead>\n",
       "    <tr style=\"text-align: right;\">\n",
       "      <th></th>\n",
       "      <th>cet_cest_timestamp</th>\n",
       "      <th>AT_load_actual_entsoe_transparency</th>\n",
       "      <th>AT_load_forecast_entsoe_transparency</th>\n",
       "      <th>AT_price_day_ahead</th>\n",
       "      <th>AT_solar_generation_actual</th>\n",
       "      <th>AT_wind_onshore_generation_actual</th>\n",
       "    </tr>\n",
       "    <tr>\n",
       "      <th>utc_timestamp</th>\n",
       "      <th></th>\n",
       "      <th></th>\n",
       "      <th></th>\n",
       "      <th></th>\n",
       "      <th></th>\n",
       "      <th></th>\n",
       "    </tr>\n",
       "  </thead>\n",
       "  <tbody>\n",
       "    <tr>\n",
       "      <th>2014-12-31 23:00:00+00:00</th>\n",
       "      <td>2015-01-01T00:00:00+0100</td>\n",
       "      <td>NaN</td>\n",
       "      <td>NaN</td>\n",
       "      <td>NaN</td>\n",
       "      <td>NaN</td>\n",
       "      <td>NaN</td>\n",
       "    </tr>\n",
       "    <tr>\n",
       "      <th>2014-12-31 23:15:00+00:00</th>\n",
       "      <td>2015-01-01T00:15:00+0100</td>\n",
       "      <td>NaN</td>\n",
       "      <td>NaN</td>\n",
       "      <td>NaN</td>\n",
       "      <td>NaN</td>\n",
       "      <td>NaN</td>\n",
       "    </tr>\n",
       "    <tr>\n",
       "      <th>2014-12-31 23:30:00+00:00</th>\n",
       "      <td>2015-01-01T00:30:00+0100</td>\n",
       "      <td>NaN</td>\n",
       "      <td>NaN</td>\n",
       "      <td>NaN</td>\n",
       "      <td>NaN</td>\n",
       "      <td>NaN</td>\n",
       "    </tr>\n",
       "    <tr>\n",
       "      <th>2014-12-31 23:45:00+00:00</th>\n",
       "      <td>2015-01-01T00:45:00+0100</td>\n",
       "      <td>NaN</td>\n",
       "      <td>NaN</td>\n",
       "      <td>NaN</td>\n",
       "      <td>NaN</td>\n",
       "      <td>NaN</td>\n",
       "    </tr>\n",
       "    <tr>\n",
       "      <th>2015-01-01 00:00:00+00:00</th>\n",
       "      <td>2015-01-01T01:00:00+0100</td>\n",
       "      <td>NaN</td>\n",
       "      <td>NaN</td>\n",
       "      <td>NaN</td>\n",
       "      <td>NaN</td>\n",
       "      <td>NaN</td>\n",
       "    </tr>\n",
       "  </tbody>\n",
       "</table>\n",
       "</div>"
      ],
      "text/plain": [
       "                                 cet_cest_timestamp  \\\n",
       "utc_timestamp                                         \n",
       "2014-12-31 23:00:00+00:00  2015-01-01T00:00:00+0100   \n",
       "2014-12-31 23:15:00+00:00  2015-01-01T00:15:00+0100   \n",
       "2014-12-31 23:30:00+00:00  2015-01-01T00:30:00+0100   \n",
       "2014-12-31 23:45:00+00:00  2015-01-01T00:45:00+0100   \n",
       "2015-01-01 00:00:00+00:00  2015-01-01T01:00:00+0100   \n",
       "\n",
       "                           AT_load_actual_entsoe_transparency  \\\n",
       "utc_timestamp                                                   \n",
       "2014-12-31 23:00:00+00:00                                 NaN   \n",
       "2014-12-31 23:15:00+00:00                                 NaN   \n",
       "2014-12-31 23:30:00+00:00                                 NaN   \n",
       "2014-12-31 23:45:00+00:00                                 NaN   \n",
       "2015-01-01 00:00:00+00:00                                 NaN   \n",
       "\n",
       "                           AT_load_forecast_entsoe_transparency  \\\n",
       "utc_timestamp                                                     \n",
       "2014-12-31 23:00:00+00:00                                   NaN   \n",
       "2014-12-31 23:15:00+00:00                                   NaN   \n",
       "2014-12-31 23:30:00+00:00                                   NaN   \n",
       "2014-12-31 23:45:00+00:00                                   NaN   \n",
       "2015-01-01 00:00:00+00:00                                   NaN   \n",
       "\n",
       "                           AT_price_day_ahead  AT_solar_generation_actual  \\\n",
       "utc_timestamp                                                               \n",
       "2014-12-31 23:00:00+00:00                 NaN                         NaN   \n",
       "2014-12-31 23:15:00+00:00                 NaN                         NaN   \n",
       "2014-12-31 23:30:00+00:00                 NaN                         NaN   \n",
       "2014-12-31 23:45:00+00:00                 NaN                         NaN   \n",
       "2015-01-01 00:00:00+00:00                 NaN                         NaN   \n",
       "\n",
       "                           AT_wind_onshore_generation_actual  \n",
       "utc_timestamp                                                 \n",
       "2014-12-31 23:00:00+00:00                                NaN  \n",
       "2014-12-31 23:15:00+00:00                                NaN  \n",
       "2014-12-31 23:30:00+00:00                                NaN  \n",
       "2014-12-31 23:45:00+00:00                                NaN  \n",
       "2015-01-01 00:00:00+00:00                                NaN  "
      ]
     },
     "execution_count": 19,
     "metadata": {},
     "output_type": "execute_result"
    }
   ],
   "source": [
    "# read input\n",
    "df = pd.read_csv('opsd_austria_daily.csv', index_col=0)\n",
    "df.index = pd.to_datetime(df.index)\n",
    "df.head(5)"
   ]
  },
  {
   "cell_type": "code",
   "execution_count": 20,
   "metadata": {},
   "outputs": [],
   "source": [
    "df['Date'] = pd.to_datetime(df['cet_cest_timestamp'], utc=True)"
   ]
  },
  {
   "cell_type": "code",
   "execution_count": 21,
   "metadata": {},
   "outputs": [
    {
     "data": {
      "text/html": [
       "<div>\n",
       "<style scoped>\n",
       "    .dataframe tbody tr th:only-of-type {\n",
       "        vertical-align: middle;\n",
       "    }\n",
       "\n",
       "    .dataframe tbody tr th {\n",
       "        vertical-align: top;\n",
       "    }\n",
       "\n",
       "    .dataframe thead th {\n",
       "        text-align: right;\n",
       "    }\n",
       "</style>\n",
       "<table border=\"1\" class=\"dataframe\">\n",
       "  <thead>\n",
       "    <tr style=\"text-align: right;\">\n",
       "      <th></th>\n",
       "      <th>cet_cest_timestamp</th>\n",
       "      <th>AT_load_actual_entsoe_transparency</th>\n",
       "      <th>AT_load_forecast_entsoe_transparency</th>\n",
       "      <th>AT_price_day_ahead</th>\n",
       "      <th>AT_solar_generation_actual</th>\n",
       "      <th>AT_wind_onshore_generation_actual</th>\n",
       "      <th>Date</th>\n",
       "      <th>Year</th>\n",
       "      <th>Month</th>\n",
       "    </tr>\n",
       "    <tr>\n",
       "      <th>utc_timestamp</th>\n",
       "      <th></th>\n",
       "      <th></th>\n",
       "      <th></th>\n",
       "      <th></th>\n",
       "      <th></th>\n",
       "      <th></th>\n",
       "      <th></th>\n",
       "      <th></th>\n",
       "      <th></th>\n",
       "    </tr>\n",
       "  </thead>\n",
       "  <tbody>\n",
       "    <tr>\n",
       "      <th>2019-10-10 05:15:00+00:00</th>\n",
       "      <td>2019-10-10T07:15:00+0200</td>\n",
       "      <td>8535.6</td>\n",
       "      <td>7892.0</td>\n",
       "      <td>NaN</td>\n",
       "      <td>24.0</td>\n",
       "      <td>660.0</td>\n",
       "      <td>2019-10-10 05:15:00+00:00</td>\n",
       "      <td>2019</td>\n",
       "      <td>10</td>\n",
       "    </tr>\n",
       "  </tbody>\n",
       "</table>\n",
       "</div>"
      ],
      "text/plain": [
       "                                 cet_cest_timestamp  \\\n",
       "utc_timestamp                                         \n",
       "2019-10-10 05:15:00+00:00  2019-10-10T07:15:00+0200   \n",
       "\n",
       "                           AT_load_actual_entsoe_transparency  \\\n",
       "utc_timestamp                                                   \n",
       "2019-10-10 05:15:00+00:00                              8535.6   \n",
       "\n",
       "                           AT_load_forecast_entsoe_transparency  \\\n",
       "utc_timestamp                                                     \n",
       "2019-10-10 05:15:00+00:00                                7892.0   \n",
       "\n",
       "                           AT_price_day_ahead  AT_solar_generation_actual  \\\n",
       "utc_timestamp                                                               \n",
       "2019-10-10 05:15:00+00:00                 NaN                        24.0   \n",
       "\n",
       "                           AT_wind_onshore_generation_actual  \\\n",
       "utc_timestamp                                                  \n",
       "2019-10-10 05:15:00+00:00                              660.0   \n",
       "\n",
       "                                               Date  Year  Month  \n",
       "utc_timestamp                                                     \n",
       "2019-10-10 05:15:00+00:00 2019-10-10 05:15:00+00:00  2019     10  "
      ]
     },
     "execution_count": 21,
     "metadata": {},
     "output_type": "execute_result"
    }
   ],
   "source": [
    "df['Year'] = df['Date'].dt.year\n",
    "df['Month'] = df['Date'].dt.month\n",
    "df.sample()"
   ]
  },
  {
   "cell_type": "code",
   "execution_count": 22,
   "metadata": {},
   "outputs": [],
   "source": [
    "# data imputation\n",
    "def clean(dataset, columns):\n",
    "    dataset[columns].replace(0, np.nan, inplace=True)\n",
    "    dataset[columns].fillna(method='bfill', inplace=True) \n",
    "    dataset[columns].fillna(method='ffill', inplace=True)\n",
    "# call a clean function here for Electricity_consumption, Wind_production columns"
   ]
  },
  {
   "cell_type": "code",
   "execution_count": 23,
   "metadata": {},
   "outputs": [],
   "source": [
    "clean(df, 'AT_load_actual_entsoe_transparency')"
   ]
  },
  {
   "cell_type": "code",
   "execution_count": 24,
   "metadata": {},
   "outputs": [],
   "source": [
    "clean(df, 'AT_wind_onshore_generation_actual')"
   ]
  },
  {
   "cell_type": "code",
   "execution_count": 25,
   "metadata": {},
   "outputs": [],
   "source": [
    "# ensemble learning for regression\n",
    "def ensemble_training(df_train, df_test, max_depth, n_estimators):\n",
    "    label = 'AT_load_actual_entsoe_transparency'\n",
    "    X_train = df_train.drop(label, axis=1)\n",
    "    y_train = df_train.loc[:,label]\n",
    "    X_test = df_test.drop(label, axis=1)\n",
    "    y_test = df_test.loc[:,label]\n",
    "    dtrab = AdaBoostRegressor(DecisionTreeRegressor(max_depth=max_depth),\n",
    "                              # check w hich value for max_depth gives better RMSE/MSE: 5, 10, 15, 20, 25\n",
    "                              n_estimators=n_estimators,\n",
    "                              # check which value for n_estimators gives better RMSE/MAE: 10, 20, 30, 40, 50, 100\n",
    "                              random_state=1)\n",
    "    dtrab.fit(X_train, y_train)\n",
    "    y_predict=dtrab.predict(X_test)\n",
    "    print('RMSE: %.6f' %(sqrt(mean_squared_error(y_test, y_predict))))\n",
    "    print('MAE: %.6f' %(mean_absolute_error(y_test, y_predict)))\n",
    "    df_sol=pd.DataFrame({'True': np.array(y_test),'Predicted': np.array(y_predict)})\n",
    "    return dtrab, df_sol"
   ]
  },
  {
   "cell_type": "code",
   "execution_count": 26,
   "metadata": {},
   "outputs": [],
   "source": [
    "features = ['AT_load_actual_entsoe_transparency','AT_wind_onshore_generation_actual','Month']\n",
    "df_train = df.loc[df['Year']!=2019, features]\n",
    "df_test = df.loc[df['Year']==2019, features]"
   ]
  },
  {
   "cell_type": "code",
   "execution_count": 14,
   "metadata": {},
   "outputs": [],
   "source": [
    "def month_select(df, column):\n",
    "    df_dummy = pd.get_dummies(df[column], prefix='M')\n",
    "    df_new = pd.concat([df, df_dummy], axis=1)\n",
    "    df_new = df_new.drop(column, axis=1)\n",
    "    return df_new"
   ]
  },
  {
   "cell_type": "code",
   "execution_count": 27,
   "metadata": {},
   "outputs": [],
   "source": [
    "df_train = month_select(df_train, 'Month')\n",
    "df_test = month_select(df_test, 'Month')"
   ]
  },
  {
   "cell_type": "markdown",
   "metadata": {},
   "source": [
    "**Проверим по отдельности, какие параметры для моделей лучше:**"
   ]
  },
  {
   "cell_type": "code",
   "execution_count": 47,
   "metadata": {},
   "outputs": [],
   "source": [
    "X_train = df_train.drop('AT_load_actual_entsoe_transparency', axis=1)\n",
    "y_train = df_train.loc[:,'AT_load_actual_entsoe_transparency']"
   ]
  },
  {
   "cell_type": "code",
   "execution_count": 58,
   "metadata": {},
   "outputs": [
    {
     "data": {
      "text/plain": [
       "DecisionTreeRegressor(ccp_alpha=0.0, criterion='mse', max_depth=5,\n",
       "                      max_features=None, max_leaf_nodes=None,\n",
       "                      min_impurity_decrease=0.0, min_impurity_split=None,\n",
       "                      min_samples_leaf=1, min_samples_split=2,\n",
       "                      min_weight_fraction_leaf=0.0, presort='deprecated',\n",
       "                      random_state=1, splitter='best')"
      ]
     },
     "execution_count": 58,
     "metadata": {},
     "output_type": "execute_result"
    }
   ],
   "source": [
    "parameters = {'max_depth': [5, 10, 15, 20, 25]}\n",
    "\n",
    "model = DecisionTreeRegressor(random_state=1)\n",
    "grid_search_tree = GridSearchCV(model, parameters, scoring='neg_root_mean_squared_error')\n",
    "grid_search_tree.fit(X_train, y_train)\n",
    "grid_search_tree.best_estimator_"
   ]
  },
  {
   "cell_type": "code",
   "execution_count": 60,
   "metadata": {},
   "outputs": [
    {
     "data": {
      "text/plain": [
       "AdaBoostRegressor(base_estimator=None, learning_rate=1.0, loss='linear',\n",
       "                  n_estimators=20, random_state=1)"
      ]
     },
     "execution_count": 60,
     "metadata": {},
     "output_type": "execute_result"
    }
   ],
   "source": [
    "parameters = {'n_estimators':[10, 20, 30, 40, 50, 100]}\n",
    "\n",
    "model = AdaBoostRegressor(random_state=1)\n",
    "grid_search_ada = GridSearchCV(model, parameters, scoring='neg_root_mean_squared_error')\n",
    "grid_search_ada.fit(X_train, y_train)\n",
    "grid_search_ada.best_estimator_"
   ]
  },
  {
   "cell_type": "markdown",
   "metadata": {},
   "source": [
    "Для DecisionTreeRegressor лучший параметр для глубины составтяет 5, а для AdaBoostRegressor число деревьев - 20"
   ]
  },
  {
   "cell_type": "markdown",
   "metadata": {},
   "source": [
    "Но посмотрим на значения MAE и RMSE, если мы будем их использовать в ансамбле:"
   ]
  },
  {
   "cell_type": "code",
   "execution_count": 31,
   "metadata": {},
   "outputs": [
    {
     "name": "stdout",
     "output_type": "stream",
     "text": [
      "max_depth = 5    n_estimators= 10\n",
      "RMSE: 1300.721354\n",
      "MAE: 1123.786042\n",
      "____________\n",
      "max_depth = 5    n_estimators= 20\n",
      "RMSE: 1330.982745\n",
      "MAE: 1142.575593\n",
      "____________\n",
      "max_depth = 5    n_estimators= 30\n",
      "RMSE: 1330.982745\n",
      "MAE: 1142.575593\n",
      "____________\n",
      "max_depth = 5    n_estimators= 40\n",
      "RMSE: 1330.982745\n",
      "MAE: 1142.575593\n",
      "____________\n",
      "max_depth = 5    n_estimators= 50\n",
      "RMSE: 1330.982745\n",
      "MAE: 1142.575593\n",
      "____________\n",
      "max_depth = 5    n_estimators= 100\n",
      "RMSE: 1330.982745\n",
      "MAE: 1142.575593\n",
      "____________\n",
      "max_depth = 10    n_estimators= 10\n",
      "RMSE: 1322.226050\n",
      "MAE: 1135.857492\n",
      "____________\n",
      "max_depth = 10    n_estimators= 20\n",
      "RMSE: 1327.961717\n",
      "MAE: 1139.221839\n",
      "____________\n",
      "max_depth = 10    n_estimators= 30\n",
      "RMSE: 1332.218700\n",
      "MAE: 1141.243652\n",
      "____________\n",
      "max_depth = 10    n_estimators= 40\n",
      "RMSE: 1338.614553\n",
      "MAE: 1144.790141\n",
      "____________\n",
      "max_depth = 10    n_estimators= 50\n",
      "RMSE: 1341.189290\n",
      "MAE: 1146.213639\n",
      "____________\n",
      "max_depth = 10    n_estimators= 100\n",
      "RMSE: 1341.241034\n",
      "MAE: 1146.383518\n",
      "____________\n",
      "max_depth = 15    n_estimators= 10\n",
      "RMSE: 1310.279259\n",
      "MAE: 1129.510987\n",
      "____________\n",
      "max_depth = 15    n_estimators= 20\n",
      "RMSE: 1308.711164\n",
      "MAE: 1128.398980\n",
      "____________\n",
      "max_depth = 15    n_estimators= 30\n",
      "RMSE: 1309.799465\n",
      "MAE: 1128.964534\n",
      "____________\n",
      "max_depth = 15    n_estimators= 40\n",
      "RMSE: 1312.901264\n",
      "MAE: 1130.433906\n",
      "____________\n",
      "max_depth = 15    n_estimators= 50\n",
      "RMSE: 1313.881219\n",
      "MAE: 1130.381119\n",
      "____________\n",
      "max_depth = 15    n_estimators= 100\n",
      "RMSE: 1317.440726\n",
      "MAE: 1130.932580\n",
      "____________\n",
      "max_depth = 20    n_estimators= 10\n",
      "RMSE: 1326.830404\n",
      "MAE: 1138.293025\n",
      "____________\n",
      "max_depth = 20    n_estimators= 20\n",
      "RMSE: 1311.584711\n",
      "MAE: 1130.348801\n",
      "____________\n",
      "max_depth = 20    n_estimators= 30\n",
      "RMSE: 1308.212922\n",
      "MAE: 1128.401605\n",
      "____________\n",
      "max_depth = 20    n_estimators= 40\n",
      "RMSE: 1307.322805\n",
      "MAE: 1128.215582\n",
      "____________\n",
      "max_depth = 20    n_estimators= 50\n",
      "RMSE: 1305.514008\n",
      "MAE: 1127.181641\n",
      "____________\n",
      "max_depth = 20    n_estimators= 100\n",
      "RMSE: 1299.097143\n",
      "MAE: 1122.794141\n",
      "____________\n",
      "max_depth = 15    n_estimators= 10\n",
      "RMSE: 1310.279259\n",
      "MAE: 1129.510987\n",
      "____________\n",
      "max_depth = 15    n_estimators= 20\n",
      "RMSE: 1308.711164\n",
      "MAE: 1128.398980\n",
      "____________\n",
      "max_depth = 15    n_estimators= 30\n",
      "RMSE: 1309.799465\n",
      "MAE: 1128.964534\n",
      "____________\n",
      "max_depth = 15    n_estimators= 40\n",
      "RMSE: 1312.901264\n",
      "MAE: 1130.433906\n",
      "____________\n",
      "max_depth = 15    n_estimators= 50\n",
      "RMSE: 1313.881219\n",
      "MAE: 1130.381119\n",
      "____________\n",
      "max_depth = 15    n_estimators= 100\n",
      "RMSE: 1317.440726\n",
      "MAE: 1130.932580\n",
      "____________\n"
     ]
    }
   ],
   "source": [
    "df_sol = []\n",
    "max_depth = [5, 10, 15, 20, 15]\n",
    "n_estimators = [10, 20, 30, 40, 50, 100]\n",
    "for md in max_depth:\n",
    "    for ne in n_estimators:\n",
    "        print('max_depth =', md, '   n_estimators=', ne)\n",
    "        model, df_sol = ensemble_training(df_train, df_test, md, ne)\n",
    "        df_sol = pd.concat([df_sol.reset_index(drop=True),\n",
    "                  pd.Series(df.loc[df['Year']==2019,'Date']).reset_index(drop=True)], axis=1)\n",
    "        print('__________________________', sep='\\n')"
   ]
  },
  {
   "cell_type": "markdown",
   "metadata": {},
   "source": [
    "**Лучший результат:**\n",
    "\n",
    "max_depth = 20   \n",
    "\n",
    "n_estimators= 100\n",
    "\n",
    "\n",
    "RMSE: 1299.097143\n",
    "\n",
    "\n",
    "MAE: 1122.794141"
   ]
  },
  {
   "cell_type": "code",
   "execution_count": 32,
   "metadata": {},
   "outputs": [
    {
     "name": "stdout",
     "output_type": "stream",
     "text": [
      "RMSE: 1299.097143\n",
      "MAE: 1122.794141\n"
     ]
    }
   ],
   "source": [
    "df_sol = []\n",
    "\n",
    "model, df_sol = ensemble_training(df_train, df_test, 20, 100)\n",
    "df_sol = pd.concat([df_sol.reset_index(drop=True),\n",
    "                  pd.Series(df.loc[df['Year']==2019,'Date']).reset_index(drop=True)], axis=1)"
   ]
  },
  {
   "cell_type": "code",
   "execution_count": 33,
   "metadata": {},
   "outputs": [
    {
     "data": {
      "image/png": "[encoded data removed]",
      "text/plain": [
       "<Figure size 720x288 with 1 Axes>"
      ]
     },
     "metadata": {
      "needs_background": "light"
     },
     "output_type": "display_data"
    }
   ],
   "source": [
    "# visualization\n",
    "fig,ax = plt.subplots(figsize=(10,4))\n",
    "ax.plot_date(df_sol.loc[1:15,'Date'],\n",
    "             df_sol.loc[1:15,'True'],\n",
    "             marker='None',\n",
    "             linestyle = '-',\n",
    "             color='black', label='True')\n",
    "ax.plot_date(df_sol.loc[1:15,'Date'],\n",
    "             df_sol.loc[1:15,'Predicted'],\n",
    "             marker='o',\n",
    "             linestyle = '-',\n",
    "             color='navy', markeredgecolor='navy', label='Predicted')\n",
    "ax.set_xlabel('Time')\n",
    "ax.set_ylabel('Electricity consumption')\n",
    "ax.legend(loc='lower right')\n",
    "plt.show()"
   ]
  },
  {
   "cell_type": "code",
   "execution_count": null,
   "metadata": {},
   "outputs": [],
   "source": []
  }
 ],
 "metadata": {
  "kernelspec": {
   "display_name": "Python 3",
   "language": "python",
   "name": "python3"
  },
  "language_info": {
   "codemirror_mode": {
    "name": "ipython",
    "version": 3
   },
   "file_extension": ".py",
   "mimetype": "text/x-python",
   "name": "python",
   "nbconvert_exporter": "python",
   "pygments_lexer": "ipython3",
   "version": "3.7.6"
  }
 },
 "nbformat": 4,
 "nbformat_minor": 4
}
