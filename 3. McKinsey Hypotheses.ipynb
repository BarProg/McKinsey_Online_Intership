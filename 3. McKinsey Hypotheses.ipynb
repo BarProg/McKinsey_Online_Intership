{
 "cells": [
  {
   "cell_type": "code",
   "execution_count": 1,
   "metadata": {},
   "outputs": [],
   "source": [
    "import pandas as pd"
   ]
  },
  {
   "cell_type": "code",
   "execution_count": 2,
   "metadata": {},
   "outputs": [],
   "source": [
    "df = pd.read_csv('opsd_austria_daily.csv', index_col=0)\n",
    "df.index = pd.to_datetime(df.index)"
   ]
  },
  {
   "cell_type": "code",
   "execution_count": 3,
   "metadata": {},
   "outputs": [
    {
     "data": {
      "text/html": [
       "<div>\n",
       "<style scoped>\n",
       "    .dataframe tbody tr th:only-of-type {\n",
       "        vertical-align: middle;\n",
       "    }\n",
       "\n",
       "    .dataframe tbody tr th {\n",
       "        vertical-align: top;\n",
       "    }\n",
       "\n",
       "    .dataframe thead th {\n",
       "        text-align: right;\n",
       "    }\n",
       "</style>\n",
       "<table border=\"1\" class=\"dataframe\">\n",
       "  <thead>\n",
       "    <tr style=\"text-align: right;\">\n",
       "      <th></th>\n",
       "      <th>cet_cest_timestamp</th>\n",
       "      <th>AT_load_actual_entsoe_transparency</th>\n",
       "      <th>AT_load_forecast_entsoe_transparency</th>\n",
       "      <th>AT_price_day_ahead</th>\n",
       "      <th>AT_solar_generation_actual</th>\n",
       "      <th>AT_wind_onshore_generation_actual</th>\n",
       "    </tr>\n",
       "    <tr>\n",
       "      <th>utc_timestamp</th>\n",
       "      <th></th>\n",
       "      <th></th>\n",
       "      <th></th>\n",
       "      <th></th>\n",
       "      <th></th>\n",
       "      <th></th>\n",
       "    </tr>\n",
       "  </thead>\n",
       "  <tbody>\n",
       "    <tr>\n",
       "      <th>2014-12-31 23:00:00+00:00</th>\n",
       "      <td>2015-01-01T00:00:00+0100</td>\n",
       "      <td>NaN</td>\n",
       "      <td>NaN</td>\n",
       "      <td>NaN</td>\n",
       "      <td>NaN</td>\n",
       "      <td>NaN</td>\n",
       "    </tr>\n",
       "    <tr>\n",
       "      <th>2014-12-31 23:15:00+00:00</th>\n",
       "      <td>2015-01-01T00:15:00+0100</td>\n",
       "      <td>NaN</td>\n",
       "      <td>NaN</td>\n",
       "      <td>NaN</td>\n",
       "      <td>NaN</td>\n",
       "      <td>NaN</td>\n",
       "    </tr>\n",
       "    <tr>\n",
       "      <th>2014-12-31 23:30:00+00:00</th>\n",
       "      <td>2015-01-01T00:30:00+0100</td>\n",
       "      <td>NaN</td>\n",
       "      <td>NaN</td>\n",
       "      <td>NaN</td>\n",
       "      <td>NaN</td>\n",
       "      <td>NaN</td>\n",
       "    </tr>\n",
       "    <tr>\n",
       "      <th>2014-12-31 23:45:00+00:00</th>\n",
       "      <td>2015-01-01T00:45:00+0100</td>\n",
       "      <td>NaN</td>\n",
       "      <td>NaN</td>\n",
       "      <td>NaN</td>\n",
       "      <td>NaN</td>\n",
       "      <td>NaN</td>\n",
       "    </tr>\n",
       "    <tr>\n",
       "      <th>2015-01-01 00:00:00+00:00</th>\n",
       "      <td>2015-01-01T01:00:00+0100</td>\n",
       "      <td>NaN</td>\n",
       "      <td>NaN</td>\n",
       "      <td>NaN</td>\n",
       "      <td>NaN</td>\n",
       "      <td>NaN</td>\n",
       "    </tr>\n",
       "  </tbody>\n",
       "</table>\n",
       "</div>"
      ],
      "text/plain": [
       "                                 cet_cest_timestamp  \\\n",
       "utc_timestamp                                         \n",
       "2014-12-31 23:00:00+00:00  2015-01-01T00:00:00+0100   \n",
       "2014-12-31 23:15:00+00:00  2015-01-01T00:15:00+0100   \n",
       "2014-12-31 23:30:00+00:00  2015-01-01T00:30:00+0100   \n",
       "2014-12-31 23:45:00+00:00  2015-01-01T00:45:00+0100   \n",
       "2015-01-01 00:00:00+00:00  2015-01-01T01:00:00+0100   \n",
       "\n",
       "                           AT_load_actual_entsoe_transparency  \\\n",
       "utc_timestamp                                                   \n",
       "2014-12-31 23:00:00+00:00                                 NaN   \n",
       "2014-12-31 23:15:00+00:00                                 NaN   \n",
       "2014-12-31 23:30:00+00:00                                 NaN   \n",
       "2014-12-31 23:45:00+00:00                                 NaN   \n",
       "2015-01-01 00:00:00+00:00                                 NaN   \n",
       "\n",
       "                           AT_load_forecast_entsoe_transparency  \\\n",
       "utc_timestamp                                                     \n",
       "2014-12-31 23:00:00+00:00                                   NaN   \n",
       "2014-12-31 23:15:00+00:00                                   NaN   \n",
       "2014-12-31 23:30:00+00:00                                   NaN   \n",
       "2014-12-31 23:45:00+00:00                                   NaN   \n",
       "2015-01-01 00:00:00+00:00                                   NaN   \n",
       "\n",
       "                           AT_price_day_ahead  AT_solar_generation_actual  \\\n",
       "utc_timestamp                                                               \n",
       "2014-12-31 23:00:00+00:00                 NaN                         NaN   \n",
       "2014-12-31 23:15:00+00:00                 NaN                         NaN   \n",
       "2014-12-31 23:30:00+00:00                 NaN                         NaN   \n",
       "2014-12-31 23:45:00+00:00                 NaN                         NaN   \n",
       "2015-01-01 00:00:00+00:00                 NaN                         NaN   \n",
       "\n",
       "                           AT_wind_onshore_generation_actual  \n",
       "utc_timestamp                                                 \n",
       "2014-12-31 23:00:00+00:00                                NaN  \n",
       "2014-12-31 23:15:00+00:00                                NaN  \n",
       "2014-12-31 23:30:00+00:00                                NaN  \n",
       "2014-12-31 23:45:00+00:00                                NaN  \n",
       "2015-01-01 00:00:00+00:00                                NaN  "
      ]
     },
     "execution_count": 3,
     "metadata": {},
     "output_type": "execute_result"
    }
   ],
   "source": [
    "df.head()"
   ]
  },
  {
   "cell_type": "code",
   "execution_count": 4,
   "metadata": {},
   "outputs": [],
   "source": [
    "df['Delta'] = df['AT_load_actual_entsoe_transparency'] - df['AT_solar_generation_actual'] - df['AT_wind_onshore_generation_actual']"
   ]
  },
  {
   "cell_type": "code",
   "execution_count": 8,
   "metadata": {},
   "outputs": [
    {
     "data": {
      "text/plain": [
       "23"
      ]
     },
     "execution_count": 8,
     "metadata": {},
     "output_type": "execute_result"
    }
   ],
   "source": [
    "df[df['Delta'] < 0]['Delta'].count()"
   ]
  },
  {
   "cell_type": "code",
   "execution_count": 12,
   "metadata": {},
   "outputs": [
    {
     "data": {
      "text/plain": [
       "201329"
      ]
     },
     "execution_count": 12,
     "metadata": {},
     "output_type": "execute_result"
    }
   ],
   "source": [
    "df[df['Delta'] > 0]['Delta'].count()"
   ]
  },
  {
   "cell_type": "code",
   "execution_count": 11,
   "metadata": {},
   "outputs": [
    {
     "data": {
      "text/plain": [
       "0"
      ]
     },
     "execution_count": 11,
     "metadata": {},
     "output_type": "execute_result"
    }
   ],
   "source": [
    "df[df['Delta'] == 0]['Delta'].count()"
   ]
  },
  {
   "cell_type": "markdown",
   "metadata": {},
   "source": [
    "Исходя из всех представленных данных, можно сказать о том, что в Австрии производят меньше электроэнергии, чем её потребляют.\n",
    "\n",
    "За весь анализируем период c 2015 по 2020 гг. было только 345 минут, когда энергии потреблялось меньше, чем её производилось."
   ]
  },
  {
   "cell_type": "markdown",
   "metadata": {},
   "source": [
    "Сколько же сможем получить при реализации электроэнергии в Австрии:"
   ]
  },
  {
   "cell_type": "code",
   "execution_count": 16,
   "metadata": {},
   "outputs": [],
   "source": [
    "df['Price_delta'] = df['AT_price_day_ahead'] * df['Delta'] * 1_000_000"
   ]
  },
  {
   "cell_type": "code",
   "execution_count": 17,
   "metadata": {},
   "outputs": [
    {
     "data": {
      "text/plain": [
       "2.96772687070321e+16"
      ]
     },
     "execution_count": 17,
     "metadata": {},
     "output_type": "execute_result"
    }
   ],
   "source": [
    "df['Price_delta'].sum()  "
   ]
  },
  {
   "cell_type": "markdown",
   "metadata": {},
   "source": [
    "Сохраним обновлённый датасет:"
   ]
  },
  {
   "cell_type": "code",
   "execution_count": 18,
   "metadata": {},
   "outputs": [],
   "source": [
    "df.to_csv('opsd_austria_updated.csv')"
   ]
  }
 ],
 "metadata": {
  "kernelspec": {
   "display_name": "Python 3",
   "language": "python",
   "name": "python3"
  },
  "language_info": {
   "codemirror_mode": {
    "name": "ipython",
    "version": 3
   },
   "file_extension": ".py",
   "mimetype": "text/x-python",
   "name": "python",
   "nbconvert_exporter": "python",
   "pygments_lexer": "ipython3",
   "version": "3.7.6"
  }
 },
 "nbformat": 4,
 "nbformat_minor": 4
}
